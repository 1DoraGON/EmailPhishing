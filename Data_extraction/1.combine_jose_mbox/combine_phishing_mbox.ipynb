{
 "cells": [
  {
   "attachments": {},
   "cell_type": "markdown",
   "metadata": {},
   "source": [
    "### Deleting email 1113 and 1115 from private-phishing4.mbox and phishing3.mbox datasets (respectively) because it have encoding issues"
   ]
  },
  {
   "cell_type": "code",
   "execution_count": 3,
   "metadata": {},
   "outputs": [],
   "source": [
    "# import mailbox\n",
    "\n",
    "# mbox_file = mailbox.mbox('./separated/private-phishing4.mbox')\n",
    "# mbox_file.remove(1115)\n",
    "# mbox_file.close()"
   ]
  },
  {
   "cell_type": "code",
   "execution_count": 5,
   "metadata": {},
   "outputs": [],
   "source": [
    "# import mailbox\n",
    "\n",
    "# mbox_file = mailbox.mbox('./separated/phishing3.mbox')\n",
    "# mbox_file.remove(1113)\n",
    "# mbox_file.close()"
   ]
  },
  {
   "cell_type": "code",
   "execution_count": 14,
   "metadata": {},
   "outputs": [],
   "source": [
    "import os \n",
    "import mailbox\n",
    "\n",
    "merged_mbox = mailbox.mbox('phishing_.mbox')\n",
    "for mbox_filename in os.listdir('./separated'):\n",
    "    mbox_filepath = os.path.join('./separated',mbox_filename)\n",
    "    mbox_file = mailbox.mbox(mbox_filepath)\n",
    "    for msg in mbox_file:\n",
    "        merged_mbox.add(msg)\n",
    "    mbox_file.close()\n",
    "merged_mbox.close()"
   ]
  },
  {
   "cell_type": "code",
   "execution_count": 16,
   "metadata": {},
   "outputs": [
    {
     "data": {
      "text/plain": [
       "10701"
      ]
     },
     "execution_count": 16,
     "metadata": {},
     "output_type": "execute_result"
    }
   ],
   "source": [
    "merged_mbox = mailbox.mbox('phishing_.mbox')\n",
    "len(merged_mbox)\n",
    "merged_mbox.close()"
   ]
  }
 ],
 "metadata": {
  "kernelspec": {
   "display_name": "Python 3",
   "language": "python",
   "name": "python3"
  },
  "language_info": {
   "codemirror_mode": {
    "name": "ipython",
    "version": 3
   },
   "file_extension": ".py",
   "mimetype": "text/x-python",
   "name": "python",
   "nbconvert_exporter": "python",
   "pygments_lexer": "ipython3",
   "version": "3.10.7"
  },
  "orig_nbformat": 4
 },
 "nbformat": 4,
 "nbformat_minor": 2
}
