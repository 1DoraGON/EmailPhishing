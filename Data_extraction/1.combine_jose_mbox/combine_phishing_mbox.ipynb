{
 "cells": [
  {
   "cell_type": "code",
   "execution_count": 12,
   "metadata": {},
   "outputs": [],
   "source": [
    "import mailbox\n",
    "import os"
   ]
  },
  {
   "cell_type": "code",
   "execution_count": 13,
   "metadata": {},
   "outputs": [
    {
     "name": "stdout",
     "output_type": "stream",
     "text": [
      "'ascii' codec can't encode characters in position 4-5: ordinal not in range(128)\n",
      "phishing3.mbox\n",
      "'ascii' codec can't decode byte 0xe9 in position 7: ordinal not in range(128)\n",
      "private-phishing4.mbox\n"
     ]
    }
   ],
   "source": [
    "merged_mbox = mailbox.mbox('phishing_.mbox')\n",
    "for mbox_filename in os.listdir('./separated'):\n",
    "    mbox_filepath = os.path.join('./separated',mbox_filename)\n",
    "    mbox_file = mailbox.mbox(mbox_filepath)\n",
    "\n",
    "    for i in range(len(mbox_file)):\n",
    "        try:\n",
    "            merged_mbox.add(mbox_file[i])\n",
    "        except Exception as e:\n",
    "            print(e)\n",
    "            print(mbox_filename)\n",
    "    mbox_file.close()\n",
    "\n",
    "merged_mbox.close()"
   ]
  },
  {
   "cell_type": "code",
   "execution_count": 14,
   "metadata": {},
   "outputs": [],
   "source": [
    "merged_mbox.close()"
   ]
  },
  {
   "cell_type": "code",
   "execution_count": 15,
   "metadata": {},
   "outputs": [
    {
     "data": {
      "text/plain": [
       "10705"
      ]
     },
     "execution_count": 15,
     "metadata": {},
     "output_type": "execute_result"
    }
   ],
   "source": [
    "merged_mbox = mailbox.mbox('phishing_.mbox')\n",
    "len(merged_mbox)"
   ]
  }
 ],
 "metadata": {
  "kernelspec": {
   "display_name": "Python 3",
   "language": "python",
   "name": "python3"
  },
  "language_info": {
   "codemirror_mode": {
    "name": "ipython",
    "version": 3
   },
   "file_extension": ".py",
   "mimetype": "text/x-python",
   "name": "python",
   "nbconvert_exporter": "python",
   "pygments_lexer": "ipython3",
   "version": "3.10.7"
  },
  "orig_nbformat": 4
 },
 "nbformat": 4,
 "nbformat_minor": 2
}
