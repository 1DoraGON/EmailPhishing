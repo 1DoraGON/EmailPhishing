{
 "cells": [
  {
   "cell_type": "code",
   "execution_count": 4,
   "metadata": {},
   "outputs": [],
   "source": [
    "import utils\n",
    "from bs4 import BeautifulSoup\n",
    "def getFeature(message):\n",
    "    import re\n",
    "    payload = utils.getpayload(message).lower()\n",
    "    return re.compile(r'<\\s?\\/?\\s?form\\s?>', re.IGNORECASE).search(payload) != None\n",
    "    return bs_form(payload)\n",
    "\n",
    "def bs_form(html_text):\n",
    "    bs = BeautifulSoup(html_text,'html.parser')\n",
    "    return bs.find('form') != None\n",
    "import mailbox\n",
    "import pandas as pd\n"
   ]
  },
  {
   "cell_type": "code",
   "execution_count": 5,
   "metadata": {},
   "outputs": [],
   "source": [
    "\n",
    "def processFile(filepath, ):\n",
    "    mbox = mailbox.mbox(filepath)\n",
    "    data = []\n",
    "    for message in mbox:\n",
    "        dict = {}\n",
    "\n",
    "        dict[\"feature\"] = getFeature(message)\n",
    "        data.append(dict)\n",
    "\n",
    "    return pd.DataFrame(data)\n"
   ]
  },
  {
   "cell_type": "code",
   "execution_count": 6,
   "metadata": {},
   "outputs": [
    {
     "name": "stdout",
     "output_type": "stream",
     "text": [
      "[False  True]\n"
     ]
    }
   ],
   "source": [
    "file_path = './phishing_.mbox'\n",
    "df = processFile(file_path)\n",
    "print(df['feature'].unique())"
   ]
  },
  {
   "cell_type": "code",
   "execution_count": 9,
   "metadata": {},
   "outputs": [
    {
     "name": "stdout",
     "output_type": "stream",
     "text": [
      "[5, 73, 89, 100, 212, 247, 249, 255, 320, 366, 371, 410, 496, 718, 830, 831, 873, 874, 921, 934, 976, 977, 1055, 1128, 1152, 1153, 1156, 1160, 1258, 1262, 1266, 1269, 1290, 1399]\n"
     ]
    }
   ],
   "source": [
    "phishy_list = []\n",
    "for i, row_ in df.iterrows():\n",
    "    if row_['feature'] == True:\n",
    "        phishy_list.append(i)\n",
    "print(phishy_list)"
   ]
  }
 ],
 "metadata": {
  "kernelspec": {
   "display_name": "Python 3",
   "language": "python",
   "name": "python3"
  },
  "language_info": {
   "codemirror_mode": {
    "name": "ipython",
    "version": 3
   },
   "file_extension": ".py",
   "mimetype": "text/x-python",
   "name": "python",
   "nbconvert_exporter": "python",
   "pygments_lexer": "ipython3",
   "version": "3.10.7"
  },
  "orig_nbformat": 4
 },
 "nbformat": 4,
 "nbformat_minor": 2
}
