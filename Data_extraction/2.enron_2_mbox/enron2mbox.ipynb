{
 "cells": [
  {
   "cell_type": "code",
   "execution_count": 1,
   "metadata": {},
   "outputs": [],
   "source": [
    "import os \n",
    "import mailbox\n",
    "import shutil"
   ]
  },
  {
   "cell_type": "code",
   "execution_count": 2,
   "metadata": {},
   "outputs": [],
   "source": [
    "def filesInDirTree(path):\n",
    "    folders_names = []\n",
    "    for root,_ , files in os.walk(path):\n",
    "        if files:\n",
    "            folders_names.append(os.path.join(root))\n",
    "    return folders_names\n",
    "\n",
    "maildir_path = './original_maildir/'\n",
    "maildirs_names = filesInDirTree(maildir_path)"
   ]
  },
  {
   "cell_type": "code",
   "execution_count": 3,
   "metadata": {},
   "outputs": [],
   "source": [
    "i = 0\n",
    "for maildir_name in maildirs_names:\n",
    "    for filename in os.listdir(maildir_name):\n",
    "        file_path = os.path.join(maildir_name,filename)\n",
    "        dest_path = f'./gathered_maildir/{i}'\n",
    "        try:\n",
    "            shutil.copy(file_path,dest_path)\n",
    "        except:\n",
    "            continue\n",
    "        i += 1"
   ]
  },
  {
   "cell_type": "code",
   "execution_count": 4,
   "metadata": {},
   "outputs": [],
   "source": [
    "\n",
    "maildir_name = './gathered_maildir/'\n",
    "os.mkdir(os.path.join(maildir_name,'cur'))\n",
    "os.mkdir(os.path.join(maildir_name,'new'))\n",
    "for filename in os.listdir(maildir_name):\n",
    "    if filename not in ['cur','new']:\n",
    "        shutil.move(os.path.join(maildir_name,filename),os.path.join(maildir_name,'cur',filename))\n"
   ]
  },
  {
   "cell_type": "code",
   "execution_count": 5,
   "metadata": {},
   "outputs": [],
   "source": [
    "import mailbox\n",
    "\n",
    "maildir = mailbox.Maildir('./gathered_maildir/')\n",
    "mbox = mailbox.mbox('ham_.mbox')\n",
    "\n",
    "i = 0\n",
    "for msg in maildir:\n",
    "    if i<10705:\n",
    "        mbox.add(msg)\n",
    "    else:\n",
    "        break\n",
    "    i += 1 \n",
    "\n",
    "maildir.close()\n",
    "mbox.close()"
   ]
  }
 ],
 "metadata": {
  "kernelspec": {
   "display_name": "Python 3",
   "language": "python",
   "name": "python3"
  },
  "language_info": {
   "codemirror_mode": {
    "name": "ipython",
    "version": 3
   },
   "file_extension": ".py",
   "mimetype": "text/x-python",
   "name": "python",
   "nbconvert_exporter": "python",
   "pygments_lexer": "ipython3",
   "version": "3.10.7"
  },
  "orig_nbformat": 4
 },
 "nbformat": 4,
 "nbformat_minor": 2
}
