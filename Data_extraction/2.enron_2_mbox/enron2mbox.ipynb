{
 "cells": [
  {
   "cell_type": "code",
   "execution_count": 2,
   "metadata": {},
   "outputs": [],
   "source": [
    "import os \n",
    "import mailbox\n",
    "import email\n",
    "import shutil"
   ]
  },
  {
   "cell_type": "code",
   "execution_count": 12,
   "metadata": {},
   "outputs": [],
   "source": [
    "def filesInDirTree(path):\n",
    "    folders_names = []\n",
    "    for root,_ , files in os.walk(path):\n",
    "        if files:\n",
    "            folders_names.append(os.path.join(root))\n",
    "    return folders_names\n",
    "\n",
    "maildir_path = './original_maildir/'\n",
    "maildirs_names = filesInDirTree(maildir_path)"
   ]
  },
  {
   "cell_type": "code",
   "execution_count": 4,
   "metadata": {},
   "outputs": [
    {
     "name": "stdout",
     "output_type": "stream",
     "text": [
      "['./original_maildir/allen-p\\\\all_documents', './original_maildir/allen-p\\\\contacts', './original_maildir/allen-p\\\\deleted_items', './original_maildir/allen-p\\\\discussion_threads', './original_maildir/allen-p\\\\inbox', './original_maildir/allen-p\\\\notes_inbox', './original_maildir/allen-p\\\\sent', './original_maildir/allen-p\\\\sent_items', './original_maildir/allen-p\\\\straw', './original_maildir/allen-p\\\\_sent_mail', './original_maildir/arnold-j\\\\2000_conference', './original_maildir/arnold-j\\\\active_international', './original_maildir/arnold-j\\\\all_documents', './original_maildir/arnold-j\\\\avaya', './original_maildir/arnold-j\\\\bmc', './original_maildir/arnold-j\\\\bridge', './original_maildir/arnold-j\\\\bristol_babcock', './original_maildir/arnold-j\\\\colleen_koenig', './original_maildir/arnold-j\\\\compaq', './original_maildir/arnold-j\\\\computer_associates', './original_maildir/arnold-j\\\\continental_airlines', './original_maildir/arnold-j\\\\cooper_cameron', './original_maildir/arnold-j\\\\corestaff', './original_maildir/arnold-j\\\\deleted_items', './original_maildir/arnold-j\\\\dell', './original_maildir/arnold-j\\\\discussion_threads', './original_maildir/arnold-j\\\\ebs', './original_maildir/arnold-j\\\\ees', './original_maildir/arnold-j\\\\enron_europe', './original_maildir/arnold-j\\\\etol', './original_maildir/arnold-j\\\\fedex', './original_maildir/arnold-j\\\\ge', './original_maildir/arnold-j\\\\hp', './original_maildir/arnold-j\\\\human_resources', './original_maildir/arnold-j\\\\inbox', './original_maildir/arnold-j\\\\kinko_s', './original_maildir/arnold-j\\\\nepco', './original_maildir/arnold-j\\\\nepco_europe', './original_maildir/arnold-j\\\\notes_inbox', './original_maildir/arnold-j\\\\oec', './original_maildir/arnold-j\\\\pcc_values', './original_maildir/arnold-j\\\\personal', './original_maildir/arnold-j\\\\purchasing', './original_maildir/arnold-j\\\\requisite', './original_maildir/arnold-j\\\\sap', './original_maildir/arnold-j\\\\sarah_joy_hunter', './original_maildir/arnold-j\\\\sent', './original_maildir/arnold-j\\\\sent_items', './original_maildir/arnold-j\\\\sonoco', './original_maildir/arnold-j\\\\sony', './original_maildir/arnold-j\\\\sparefinders_com', './original_maildir/arnold-j\\\\tasks', './original_maildir/arnold-j\\\\universal_studios', './original_maildir/arnold-j\\\\vulcan_signs', './original_maildir/arnold-j\\\\weekly_report', './original_maildir/arnold-j\\\\_sent_mail', './original_maildir/arora-h\\\\all_documents', './original_maildir/arora-h\\\\deleted_items', './original_maildir/arora-h\\\\discussion_threads', './original_maildir/arora-h\\\\drafts', './original_maildir/arora-h\\\\funny', './original_maildir/arora-h\\\\inbox', './original_maildir/arora-h\\\\inbox\\\\hist_vols', './original_maildir/arora-h\\\\inbox\\\\receipts', './original_maildir/arora-h\\\\inbox\\\\saved_mail', './original_maildir/arora-h\\\\presentations', './original_maildir/arora-h\\\\savedmail', './original_maildir/arora-h\\\\sent', './original_maildir/arora-h\\\\sent_items', './original_maildir/arora-h\\\\vanderbilt', './original_maildir/badeer-r\\\\all_documents', './original_maildir/badeer-r\\\\california', './original_maildir/badeer-r\\\\cal_articles', './original_maildir/badeer-r\\\\capx', './original_maildir/badeer-r\\\\contacts', './original_maildir/badeer-r\\\\deleted_items', './original_maildir/badeer-r\\\\discussion_threads', './original_maildir/badeer-r\\\\dj_articles', './original_maildir/badeer-r\\\\inbox', './original_maildir/badeer-r\\\\memo_s', './original_maildir/badeer-r\\\\move', './original_maildir/badeer-r\\\\notes_inbox', './original_maildir/badeer-r\\\\press_releases', './original_maildir/badeer-r\\\\sent_items', './original_maildir/badeer-r\\\\var', './original_maildir/badeer-r\\\\_sent_mail', './original_maildir/baughman-d', './original_maildir/baughman-d\\\\all_documents', './original_maildir/baughman-d\\\\calendar', './original_maildir/baughman-d\\\\contacts', './original_maildir/baughman-d\\\\deleted_items', './original_maildir/baughman-d\\\\discussion_threads', './original_maildir/baughman-d\\\\ect_admin', './original_maildir/baughman-d\\\\enron_power', './original_maildir/baughman-d\\\\enron_power\\\\24_hour', './original_maildir/baughman-d\\\\enron_power\\\\cinergy_index', './original_maildir/baughman-d\\\\enron_power\\\\customer_trip2001', './original_maildir/baughman-d\\\\enron_power\\\\e_services', './original_maildir/baughman-d\\\\enron_power\\\\fundamentals', './original_maildir/baughman-d\\\\enron_power\\\\gri_timesheets', './original_maildir/baughman-d\\\\enron_power\\\\interviews', './original_maildir/baughman-d\\\\enron_power\\\\mapp', './original_maildir/baughman-d\\\\enron_power\\\\mdea', './original_maildir/baughman-d\\\\enron_power\\\\miso', './original_maildir/baughman-d\\\\enron_power\\\\options', './original_maildir/baughman-d\\\\enron_power\\\\pep', './original_maildir/baughman-d\\\\enron_power\\\\personel_vac', './original_maildir/baughman-d\\\\enron_power\\\\vermont_yankee_nuke', './original_maildir/baughman-d\\\\inbox', './original_maildir/baughman-d\\\\inbox\\\\expense_acct_', './original_maildir/baughman-d\\\\personal\\\\ccv', './original_maildir/baughman-d\\\\personal\\\\home_buy', './original_maildir/baughman-d\\\\personal\\\\hunting_fishing', './original_maildir/baughman-d\\\\personal\\\\imagesmoviessound', './original_maildir/baughman-d\\\\personal\\\\internet', './original_maildir/baughman-d\\\\personal\\\\job_referals', './original_maildir/baughman-d\\\\personal\\\\jokes', './original_maildir/baughman-d\\\\personal\\\\letters', './original_maildir/baughman-d\\\\personal\\\\travel', './original_maildir/baughman-d\\\\personal\\\\uplifting_messages', './original_maildir/baughman-d\\\\power\\\\24_hour', './original_maildir/baughman-d\\\\power\\\\cinergy_index', './original_maildir/baughman-d\\\\power\\\\customer_trip2001', './original_maildir/baughman-d\\\\power\\\\e_services', './original_maildir/baughman-d\\\\power\\\\fundamentals', './original_maildir/baughman-d\\\\power\\\\gri_timesheets', './original_maildir/baughman-d\\\\power\\\\interviews', './original_maildir/baughman-d\\\\power\\\\legal_agreements', './original_maildir/baughman-d\\\\power\\\\mapp', './original_maildir/baughman-d\\\\power\\\\miso', './original_maildir/baughman-d\\\\power\\\\options', './original_maildir/baughman-d\\\\power\\\\pep', './original_maildir/baughman-d\\\\power\\\\personel_vac', './original_maildir/baughman-d\\\\power\\\\vermont_yankee_nuke', './original_maildir/baughman-d\\\\sent_items', './original_maildir/baughman-d\\\\so2___nox', './original_maildir/baughman-d\\\\tasks', './original_maildir/baughman-d\\\\to_do', './original_maildir/baughman-d\\\\ubsw_energy\\\\enron_to_ubs_trans', './original_maildir/baughman-d\\\\ubsw_energy\\\\it', './original_maildir/baughman-d\\\\ubsw_energy\\\\powermktassoc', './original_maildir/baughman-d\\\\ubsw_energy\\\\transmission', './original_maildir/baughman-d\\\\ubsw_energy\\\\ubsw_online']\n"
     ]
    }
   ],
   "source": [
    "print(maildirs_names)"
   ]
  },
  {
   "cell_type": "code",
   "execution_count": 13,
   "metadata": {},
   "outputs": [],
   "source": [
    "i = 0\n",
    "for maildir_name in maildirs_names:\n",
    "    for filename in os.listdir(maildir_name):\n",
    "        file_path = os.path.join(maildir_name,filename)\n",
    "        dest_path = f'./gathered_maildir/{i}'\n",
    "        try:\n",
    "            shutil.copy(file_path,dest_path)\n",
    "        except:\n",
    "            continue\n",
    "        i += 1"
   ]
  },
  {
   "cell_type": "code",
   "execution_count": 14,
   "metadata": {},
   "outputs": [],
   "source": [
    "\n",
    "# def maildirs2mailbox(maildirs_names, mbox_filename,max_num = 0):\n",
    "maildir_name = './gathered_maildir/'\n",
    "os.mkdir(os.path.join(maildir_name,'cur'))\n",
    "os.mkdir(os.path.join(maildir_name,'new'))\n",
    "for filename in os.listdir(maildir_name):\n",
    "    if filename not in ['cur','new']:\n",
    "        shutil.move(os.path.join(maildir_name,filename),os.path.join(maildir_name,'cur',filename))\n"
   ]
  },
  {
   "cell_type": "code",
   "execution_count": 18,
   "metadata": {},
   "outputs": [],
   "source": [
    "import mailbox\n",
    "import email\n",
    "\n",
    "maildir = mailbox.Maildir('./gathered_maildir/')\n",
    "mbox = mailbox.mbox('ham_.mbox')\n",
    "\n",
    "i = 0\n",
    "for msg in maildir:\n",
    "    if i<10705:\n",
    "        mbox.add(msg)\n",
    "    else:\n",
    "        break\n",
    "    i += 1 \n",
    "\n",
    "maildir.close()\n",
    "mbox.close()"
   ]
  },
  {
   "cell_type": "code",
   "execution_count": 19,
   "metadata": {},
   "outputs": [
    {
     "data": {
      "text/plain": [
       "10705"
      ]
     },
     "execution_count": 19,
     "metadata": {},
     "output_type": "execute_result"
    }
   ],
   "source": [
    "mbox = mailbox.mbox('ham_.mbox')\n",
    "len(mbox)\n",
    "mbox.close()"
   ]
  }
 ],
 "metadata": {
  "kernelspec": {
   "display_name": "Python 3",
   "language": "python",
   "name": "python3"
  },
  "language_info": {
   "codemirror_mode": {
    "name": "ipython",
    "version": 3
   },
   "file_extension": ".py",
   "mimetype": "text/x-python",
   "name": "python",
   "nbconvert_exporter": "python",
   "pygments_lexer": "ipython3",
   "version": "3.10.7"
  },
  "orig_nbformat": 4
 },
 "nbformat": 4,
 "nbformat_minor": 2
}
